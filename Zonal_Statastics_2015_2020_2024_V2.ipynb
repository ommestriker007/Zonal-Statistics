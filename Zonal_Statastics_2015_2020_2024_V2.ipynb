{
  "nbformat": 4,
  "nbformat_minor": 0,
  "metadata": {
    "colab": {
      "provenance": [],
      "authorship_tag": "ABX9TyN+qreRk4eSTpv5L+6YC02e",
      "include_colab_link": true
    },
    "kernelspec": {
      "name": "python3",
      "display_name": "Python 3"
    },
    "language_info": {
      "name": "python"
    }
  },
  "cells": [
    {
      "cell_type": "markdown",
      "metadata": {
        "id": "view-in-github",
        "colab_type": "text"
      },
      "source": [
        "<a href=\"https://colab.research.google.com/github/ommestriker007/Zonal-Statistics/blob/main/Zonal_Statastics_2015_2020_2024_V2.ipynb\" target=\"_parent\"><img src=\"https://colab.research.google.com/assets/colab-badge.svg\" alt=\"Open In Colab\"/></a>"
      ]
    },
    {
      "cell_type": "code",
      "execution_count": null,
      "metadata": {
        "id": "YJFjWV4HjQus",
        "colab": {
          "base_uri": "https://localhost:8080/",
          "height": 17
        },
        "outputId": "a62eb697-6b97-4ba1-bd53-bc5ca5b5573f"
      },
      "outputs": [
        {
          "output_type": "display_data",
          "data": {
            "text/plain": [
              "<IPython.core.display.HTML object>"
            ],
            "text/html": [
              "\n",
              "            <style>\n",
              "                .geemap-dark {\n",
              "                    --jp-widgets-color: white;\n",
              "                    --jp-widgets-label-color: white;\n",
              "                    --jp-ui-font-color1: white;\n",
              "                    --jp-layout-color2: #454545;\n",
              "                    background-color: #383838;\n",
              "                }\n",
              "\n",
              "                .geemap-dark .jupyter-button {\n",
              "                    --jp-layout-color3: #383838;\n",
              "                }\n",
              "\n",
              "                .geemap-colab {\n",
              "                    background-color: var(--colab-primary-surface-color, white);\n",
              "                }\n",
              "\n",
              "                .geemap-colab .jupyter-button {\n",
              "                    --jp-layout-color3: var(--colab-primary-surface-color, white);\n",
              "                }\n",
              "            </style>\n",
              "            "
            ]
          },
          "metadata": {}
        }
      ],
      "source": [
        "import geemap.geemap as geemap\n",
        "import ee\n",
        "import os"
      ]
    },
    {
      "cell_type": "code",
      "source": [
        "ee.Authenticate()\n",
        "ee.Initialize(project = 'neon-feat-313910')"
      ],
      "metadata": {
        "colab": {
          "base_uri": "https://localhost:8080/",
          "height": 17
        },
        "id": "wQI55fGFjvnj",
        "outputId": "063f0484-bd77-4312-dec9-4360026e45a9"
      },
      "execution_count": null,
      "outputs": [
        {
          "output_type": "display_data",
          "data": {
            "text/plain": [
              "<IPython.core.display.HTML object>"
            ],
            "text/html": [
              "\n",
              "            <style>\n",
              "                .geemap-dark {\n",
              "                    --jp-widgets-color: white;\n",
              "                    --jp-widgets-label-color: white;\n",
              "                    --jp-ui-font-color1: white;\n",
              "                    --jp-layout-color2: #454545;\n",
              "                    background-color: #383838;\n",
              "                }\n",
              "\n",
              "                .geemap-dark .jupyter-button {\n",
              "                    --jp-layout-color3: #383838;\n",
              "                }\n",
              "\n",
              "                .geemap-colab {\n",
              "                    background-color: var(--colab-primary-surface-color, white);\n",
              "                }\n",
              "\n",
              "                .geemap-colab .jupyter-button {\n",
              "                    --jp-layout-color3: var(--colab-primary-surface-color, white);\n",
              "                }\n",
              "            </style>\n",
              "            "
            ]
          },
          "metadata": {}
        }
      ]
    },
    {
      "cell_type": "code",
      "source": [
        "base = geemap.Map()\n",
        "Districts = ee.FeatureCollection('projects/neon-feat-313910/assets/District_corrected')\n",
        "Districts\n",
        "base.addLayer(Districts, {}, 'Districts')\n",
        "# base"
      ],
      "metadata": {
        "colab": {
          "base_uri": "https://localhost:8080/",
          "height": 17
        },
        "id": "bFbswR3djv2z",
        "outputId": "99f7ba98-1f43-4444-b485-d4f913075b10"
      },
      "execution_count": null,
      "outputs": [
        {
          "output_type": "display_data",
          "data": {
            "text/plain": [
              "<IPython.core.display.HTML object>"
            ],
            "text/html": [
              "\n",
              "            <style>\n",
              "                .geemap-dark {\n",
              "                    --jp-widgets-color: white;\n",
              "                    --jp-widgets-label-color: white;\n",
              "                    --jp-ui-font-color1: white;\n",
              "                    --jp-layout-color2: #454545;\n",
              "                    background-color: #383838;\n",
              "                }\n",
              "\n",
              "                .geemap-dark .jupyter-button {\n",
              "                    --jp-layout-color3: #383838;\n",
              "                }\n",
              "\n",
              "                .geemap-colab {\n",
              "                    background-color: var(--colab-primary-surface-color, white);\n",
              "                }\n",
              "\n",
              "                .geemap-colab .jupyter-button {\n",
              "                    --jp-layout-color3: var(--colab-primary-surface-color, white);\n",
              "                }\n",
              "            </style>\n",
              "            "
            ]
          },
          "metadata": {}
        }
      ]
    },
    {
      "cell_type": "code",
      "source": [
        "burnt_area_2015 = ee.ImageCollection(\"MODIS/061/MCD64A1\").filterDate('2015-01-01', '2015-12-31').select(['BurnDate']).mean().clip(Districts)\n",
        "burnt_area_vis = {\n",
        "  'min': 30.0,\n",
        "  'max': 341.0,\n",
        "  'palette': ['4e0400', '951003', 'c61503', 'ff1901']}\n",
        "# ['4e0400', '951003', 'c61503', 'ff1901']\n",
        "# ['b9bcc5','353638','d2522f','ff670f','514745']\n",
        "base.addLayer(burnt_area_2015, burnt_area_vis, 'Burned Area 2015')\n",
        "output_directory = os.path.join(os.path.expanduser('~'),'Downloads')\n",
        "burnt_area_India_2015 = os.path.join(output_directory,'burnt_area_India_2015.csv')\n",
        "if not os.path.exists(output_directory):\n",
        "  os.makedirs(output_directory)\n",
        "geemap.zonal_statistics(burnt_area_2015, Districts, burnt_area_India_2015,'MEAN',scale=250)\n",
        "# base"
      ],
      "metadata": {
        "colab": {
          "base_uri": "https://localhost:8080/",
          "height": 104
        },
        "id": "6sHjbds-jv9p",
        "outputId": "13358e9a-1921-4078-f91d-42e579cbc777"
      },
      "execution_count": null,
      "outputs": [
        {
          "output_type": "display_data",
          "data": {
            "text/plain": [
              "<IPython.core.display.HTML object>"
            ],
            "text/html": [
              "\n",
              "            <style>\n",
              "                .geemap-dark {\n",
              "                    --jp-widgets-color: white;\n",
              "                    --jp-widgets-label-color: white;\n",
              "                    --jp-ui-font-color1: white;\n",
              "                    --jp-layout-color2: #454545;\n",
              "                    background-color: #383838;\n",
              "                }\n",
              "\n",
              "                .geemap-dark .jupyter-button {\n",
              "                    --jp-layout-color3: #383838;\n",
              "                }\n",
              "\n",
              "                .geemap-colab {\n",
              "                    background-color: var(--colab-primary-surface-color, white);\n",
              "                }\n",
              "\n",
              "                .geemap-colab .jupyter-button {\n",
              "                    --jp-layout-color3: var(--colab-primary-surface-color, white);\n",
              "                }\n",
              "            </style>\n",
              "            "
            ]
          },
          "metadata": {}
        },
        {
          "output_type": "stream",
          "name": "stdout",
          "text": [
            "Computing statistics ...\n",
            "Generating URL ...\n",
            "Downloading data from https://earthengine.googleapis.com/v1/projects/neon-feat-313910/tables/b14ecf8eb4223d9c2777753e73ffa4b3-53d386a5f2920e6b0f05484730ca524f:getFeatures\n",
            "Please wait ...\n",
            "Data downloaded to /root/Downloads/burnt_area_India_2015.csv\n"
          ]
        }
      ]
    },
    {
      "cell_type": "code",
      "source": [
        "burnt_area_2020 = ee.ImageCollection(\"MODIS/061/MCD64A1\").filterDate('2020-01-01', '2020-12-31').select(['BurnDate']).mean().clip(Districts)\n",
        "burnt_area_vis = {\n",
        "  'min': 30.0,\n",
        "  'max': 341.0,\n",
        "  'palette': ['4e0400', '951003', 'c61503', 'ff1901']}\n",
        "base.addLayer(burnt_area_2020, burnt_area_vis, 'Burned Area 2020')\n",
        "output_directory = os.path.join(os.path.expanduser('~'),'Downloads')\n",
        "burnt_area_India_2020 = os.path.join(output_directory,'burnt_area_India_2020.csv')\n",
        "if not os.path.exists(output_directory):\n",
        "  os.makedirs(output_directory)\n",
        "geemap.zonal_statistics(burnt_area_2020, Districts, burnt_area_India_2020,'MEAN',scale=250)"
      ],
      "metadata": {
        "colab": {
          "base_uri": "https://localhost:8080/",
          "height": 104
        },
        "id": "iKqYWA2zrHqd",
        "outputId": "3a3575a8-c648-42eb-d41c-a606d9bb78cd",
        "collapsed": true
      },
      "execution_count": null,
      "outputs": [
        {
          "output_type": "display_data",
          "data": {
            "text/plain": [
              "<IPython.core.display.HTML object>"
            ],
            "text/html": [
              "\n",
              "            <style>\n",
              "                .geemap-dark {\n",
              "                    --jp-widgets-color: white;\n",
              "                    --jp-widgets-label-color: white;\n",
              "                    --jp-ui-font-color1: white;\n",
              "                    --jp-layout-color2: #454545;\n",
              "                    background-color: #383838;\n",
              "                }\n",
              "\n",
              "                .geemap-dark .jupyter-button {\n",
              "                    --jp-layout-color3: #383838;\n",
              "                }\n",
              "\n",
              "                .geemap-colab {\n",
              "                    background-color: var(--colab-primary-surface-color, white);\n",
              "                }\n",
              "\n",
              "                .geemap-colab .jupyter-button {\n",
              "                    --jp-layout-color3: var(--colab-primary-surface-color, white);\n",
              "                }\n",
              "            </style>\n",
              "            "
            ]
          },
          "metadata": {}
        },
        {
          "output_type": "stream",
          "name": "stdout",
          "text": [
            "Computing statistics ...\n",
            "Generating URL ...\n",
            "Downloading data from https://earthengine.googleapis.com/v1/projects/neon-feat-313910/tables/709f99731e36bd442e600e9cbe91cb7c-4fa99fcd175c8d55878290c76d692ecc:getFeatures\n",
            "Please wait ...\n",
            "Data downloaded to /root/Downloads/burnt_area_India_2020.csv\n"
          ]
        }
      ]
    },
    {
      "cell_type": "code",
      "source": [
        "burnt_area_2024 = ee.ImageCollection(\"MODIS/061/MCD64A1\").filterDate('2024-01-01', '2024-12-31').select(['BurnDate']).mean().clip(Districts)\n",
        "burnt_area_vis = {\n",
        "  'min': 30.0,\n",
        "  'max': 341.0,\n",
        "  'palette': ['4e0400', '951003', 'c61503', 'ff1901']}\n",
        "base.addLayer(burnt_area_2024, burnt_area_vis, 'Burned Area 2024')\n",
        "output_directory = os.path.join(os.path.expanduser('~'),'Downloads')\n",
        "burnt_area_India_2024 = os.path.join(output_directory,'burnt_area_India_2024.csv')\n",
        "if not os.path.exists(output_directory):\n",
        "  os.makedirs(output_directory)\n",
        "geemap.zonal_statistics(burnt_area_2024, Districts, burnt_area_India_2024,'MEAN',scale=250)\n",
        "# base"
      ],
      "metadata": {
        "colab": {
          "base_uri": "https://localhost:8080/",
          "height": 104
        },
        "id": "jF4G8K2frH3q",
        "outputId": "8e4916b9-7bfb-4460-cc46-6797ce085fce"
      },
      "execution_count": null,
      "outputs": [
        {
          "output_type": "display_data",
          "data": {
            "text/plain": [
              "<IPython.core.display.HTML object>"
            ],
            "text/html": [
              "\n",
              "            <style>\n",
              "                .geemap-dark {\n",
              "                    --jp-widgets-color: white;\n",
              "                    --jp-widgets-label-color: white;\n",
              "                    --jp-ui-font-color1: white;\n",
              "                    --jp-layout-color2: #454545;\n",
              "                    background-color: #383838;\n",
              "                }\n",
              "\n",
              "                .geemap-dark .jupyter-button {\n",
              "                    --jp-layout-color3: #383838;\n",
              "                }\n",
              "\n",
              "                .geemap-colab {\n",
              "                    background-color: var(--colab-primary-surface-color, white);\n",
              "                }\n",
              "\n",
              "                .geemap-colab .jupyter-button {\n",
              "                    --jp-layout-color3: var(--colab-primary-surface-color, white);\n",
              "                }\n",
              "            </style>\n",
              "            "
            ]
          },
          "metadata": {}
        },
        {
          "output_type": "stream",
          "name": "stdout",
          "text": [
            "Computing statistics ...\n",
            "Generating URL ...\n",
            "Downloading data from https://earthengine.googleapis.com/v1/projects/neon-feat-313910/tables/152d50e5aaddbf99b87fd7e2512ce908-2bd3a8e4bfdc370c82f23f5b9e43de84:getFeatures\n",
            "Please wait ...\n",
            "Data downloaded to /root/Downloads/burnt_area_India_2024.csv\n"
          ]
        }
      ]
    },
    {
      "cell_type": "code",
      "source": [
        "# output_directory = os.path.join(os.path.expanduser('~'),'Downloads')\n",
        "# burnt_area_India_2015 = os.path.join(output_directory,'burnt_area_India_2015.csv')\n",
        "# burnt_area_India_2020 = os.path.join(output_directory,'burnt_area_India_2020.csv')\n",
        "# burnt_area_India_2024 = os.path.join(output_directory,'burnt_area_India_2024.csv')\n",
        "# if not os.path.exists(output_directory):\n",
        "#   os.makedirs(output_directory)\n",
        "# geemap.zonal_statistics(burnt_area_2015, Districts, burnt_area_India_2015,'MEAN',scale=250)\n",
        "# geemap.zonal_statistics(burnt_area_2015, Districts, burnt_area_India_2020,'MEAN',scale=250)\n",
        "# geemap.zonal_statistics(burnt_area_2015, Districts, burnt_area_India_2024,'MEAN',scale=250)"
      ],
      "metadata": {
        "colab": {
          "base_uri": "https://localhost:8080/"
        },
        "id": "8sgOC8lJjxC2",
        "outputId": "66ac8e47-6e97-49a9-c483-5d2f28ac3e73"
      },
      "execution_count": null,
      "outputs": [
        {
          "data": {
            "text/html": [
              "\n",
              "            <style>\n",
              "                .geemap-dark {\n",
              "                    --jp-widgets-color: white;\n",
              "                    --jp-widgets-label-color: white;\n",
              "                    --jp-ui-font-color1: white;\n",
              "                    --jp-layout-color2: #454545;\n",
              "                    background-color: #383838;\n",
              "                }\n",
              "\n",
              "                .geemap-dark .jupyter-button {\n",
              "                    --jp-layout-color3: #383838;\n",
              "                }\n",
              "\n",
              "                .geemap-colab {\n",
              "                    background-color: var(--colab-primary-surface-color, white);\n",
              "                }\n",
              "\n",
              "                .geemap-colab .jupyter-button {\n",
              "                    --jp-layout-color3: var(--colab-primary-surface-color, white);\n",
              "                }\n",
              "            </style>\n",
              "            "
            ],
            "text/plain": [
              "<IPython.core.display.HTML object>"
            ]
          },
          "metadata": {},
          "output_type": "display_data"
        }
      ]
    }
  ]
}